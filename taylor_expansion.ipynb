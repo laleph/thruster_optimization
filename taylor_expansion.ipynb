{
 "cells": [
  {
   "cell_type": "markdown",
   "id": "intro_markdown",
   "metadata": {},
   "source": [
    "## Symbolic Taylor Expansion of Magnetic Potential $\\Phi_m$\n",
    "\n",
    "This notebook performs a symbolic Taylor expansion of the magnetic scalar potential $\\Phi_m$ for a specific magnet configuration. The primary goals are:\n",
    "1. To analyze the behavior of $\\Phi_m$ around the point $z=0$ (typically the center of the magnet system).\n",
    "2. To find conditions (relationships between magnet dimensions $R$ and $L$) under which specific terms in the Taylor expansion vanish. This can be relevant for designing magnets with desired field properties, such as high homogeneity in a region (where lower-order gradient terms are minimized)."
   ]
  },
  {
   "cell_type": "code",
   "execution_count": 1,
   "id": "795431df",
   "metadata": {},
   "outputs": [],
   "source": [
    "## Taylor expansion of Phi_m\n",
    "z = var('z')\n",
    "var('R,L') # Define R (radius) and L (length) as symbolic variables\n",
    "# Define the magnetic scalar potential Phi_m(z)\n",
    "# This expression typically represents the potential from two loops or ends of a solenoid\n",
    "Phi_m(z) = R * (1 / (R^2 + (z+L/2)^2)^(1/2) - 1 / (R^2 + (z-L/2)^2)^(1/2))"
   ]
  },
  {
   "cell_type": "code",
   "execution_count": null,
   "id": "930485d3",
   "metadata": {},
   "outputs": [],
   "source": []
  },
  {
   "cell_type": "markdown",
   "id": "taylor_expansion_markdown",
   "metadata": {},
   "source": [
    "### Compute Taylor Expansion\n",
    "\n",
    "The following step computes the Taylor series expansion of the defined magnetic potential $\\Phi_m(z)$ with respect to the variable $z$, centered around $z=0$. The expansion is carried out up to the $n$-th order (inclusive). The `.full_simplify()` method is used to simplify the resulting expression."
   ]
  },
  {
   "cell_type": "code",
   "execution_count": 2,
   "id": "cdeb36f1",
   "metadata": {},
   "outputs": [
    {
     "data": {
      "text/plain": [
       "-8*(16*(L^5*R - 20*L^3*R^3 + 30*L*R^5)*z^5 + 4*(L^7*R + 2*L^5*R^3 - 32*L^3*R^5 - 96*L*R^7)*z^3 + (L^9*R + 16*L^7*R^3 + 96*L^5*R^5 + 256*L^3*R^7 + 256*L*R^9)*z)*sqrt(L^2 + 4*R^2)/(L^12 + 24*L^10*R^2 + 240*L^8*R^4 + 1280*L^6*R^6 + 3840*L^4*R^8 + 6144*L^2*R^10 + 4096*R^12)"
      ]
     },
     "execution_count": 2,
     "metadata": {},
     "output_type": "execute_result"
    }
   ],
   "source": [
    "n=5\n",
    "p = taylor(Phi_m,z,0,n).full_simplify()\n",
    "p"
   ]
  },
  {
   "cell_type": "code",
   "execution_count": 3,
   "id": "9e4e3332",
   "metadata": {},
   "outputs": [
    {
     "data": {
      "text/plain": [
       "-\\frac{8 \\, {\\left(16 \\, {\\left(L^{5} R - 20 \\, L^{3} R^{3} + 30 \\, L R^{5}\\right)} z^{5} + 4 \\, {\\left(L^{7} R + 2 \\, L^{5} R^{3} - 32 \\, L^{3} R^{5} - 96 \\, L R^{7}\\right)} z^{3} + {\\left(L^{9} R + 16 \\, L^{7} R^{3} + 96 \\, L^{5} R^{5} + 256 \\, L^{3} R^{7} + 256 \\, L R^{9}\\right)} z\\right)} \\sqrt{L^{2} + 4 \\, R^{2}}}{L^{12} + 24 \\, L^{10} R^{2} + 240 \\, L^{8} R^{4} + 1280 \\, L^{6} R^{6} + 3840 \\, L^{4} R^{8} + 6144 \\, L^{2} R^{10} + 4096 \\, R^{12}}"
      ]
     },
     "execution_count": 3,
     "metadata": {},
     "output_type": "execute_result"
    }
   ],
   "source": [
    "latex(p)"
   ]
  },
  {
   "cell_type": "code",
   "execution_count": null,
   "id": "56eb103c",
   "metadata": {},
   "outputs": [],
   "source": []
  },
  {
   "cell_type": "code",
   "execution_count": 4,
   "id": "a64140ed",
   "metadata": {},
   "outputs": [
    {
     "data": {
      "text/plain": [
       "[L == -2*I*R, L == 2*I*R, L == -sqrt(6)*R, L == sqrt(6)*R, L == 0]"
      ]
     },
     "execution_count": 4,
     "metadata": {},
     "output_type": "execute_result"
    }
   ],
   "source": [
    "# z^3 term vanishes if the polynomial is zero\n",
    "# The expression L^7*R + 2*L^5*R^3 - 32*L^3*R^5 - 96*L*R^7 is the coefficient of the z^3 term \n",
    "# (multiplied by some constants) in the Taylor expansion of Phi_m.\n",
    "b = solve(L^7*R + 2*L^5*R^3 - 32*L^3*R^5 - 96*L*R^7,L)\n",
    "b"
   ]
  },
  {
   "cell_type": "markdown",
   "id": "solve_explanation_markdown",
   "metadata": {},
   "source": [
    "### Solving for Vanishing $z^3$ Term Coefficient\n",
    "\n",
    "The previous cell solved for the conditions on $L$ (length) and $R$ (radius) that make the coefficient of the $z^3$ term in the Taylor expansion of $\\Phi_m$ equal to zero. \n",
    "\n",
    "The expression `L^7*R + 2*L^5*R^3 - 32*L^3*R^5 - 96*L*R^7` is proportional to the coefficient of the $z^3$ term. Setting this to zero and solving for $L$ in terms of $R$ (or vice versa) gives the geometric conditions for which the $z^3$ gradient of the potential (and thus certain components of the magnetic field related to $d^3\\Phi_m/dz^3$) vanishes at $z=0$.\n",
    "\n",
    "A key result, $L = \\sqrt{6}R$ (or $L/R = \\sqrt{6} \\approx 2.449$), is known as a condition for creating a Helmholtz-like coil configuration with improved field homogeneity near the center ($z=0$). When this condition is met, the $z^3$ term (and other odd-powered terms due to symmetry) in the expansion of $\\Phi_m$ (and consequently $B_z = -d\\Phi_m/dz$) vanishes, leading to a flatter field profile for $B_z$ around $z=0$. This is significant for applications requiring a uniform magnetic field."
   ]
  },
  {
   "cell_type": "code",
   "execution_count": 5,
   "id": "18fa5548",
   "metadata": {},
   "outputs": [
    {
     "data": {
      "text/plain": [
       "\\left[L = -2 i \\, R, L = 2 i \\, R, L = -\\sqrt{6} R, L = \\sqrt{6} R, L = 0\\right]"
      ]
     },
     "execution_count": 5,
     "metadata": {},
     "output_type": "execute_result"
    }
   ],
   "source": [
    "latex(b)"
   ]
  },
  {
   "cell_type": "code",
   "execution_count": null,
   "id": "c9853195",
   "metadata": {},
   "outputs": [],
   "source": []
  }
 ],
 "metadata": {
  "kernelspec": {
   "display_name": "SageMath 9.8",
   "language": "sage",
   "name": "sagemath"
  },
  "language_info": {
   "codemirror_mode": {
    "name": "ipython",
    "version": 3
   },
   "file_extension": ".py",
   "mimetype": "text/x-python",
   "name": "python",
   "nbconvert_exporter": "python",
   "pygments_lexer": "ipython3",
   "version": "3.10.9"
  }
 },
 "nbformat": 4,
 "nbformat_minor": 5
}
